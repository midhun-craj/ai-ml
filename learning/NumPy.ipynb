{
  "nbformat": 4,
  "nbformat_minor": 0,
  "metadata": {
    "colab": {
      "provenance": [],
      "collapsed_sections": [
        "cQUhaCwmdFVR",
        "Zdom1q4BR2jb",
        "CiINSWo8aHek",
        "qe4H-HgqA7aM",
        "FFP_x1hK0v_M"
      ],
      "authorship_tag": "ABX9TyPX/s+SUmtPryLUz8nX4d9z",
      "include_colab_link": true
    },
    "kernelspec": {
      "name": "python3",
      "display_name": "Python 3"
    },
    "language_info": {
      "name": "python"
    }
  },
  "cells": [
    {
      "cell_type": "markdown",
      "metadata": {
        "id": "view-in-github",
        "colab_type": "text"
      },
      "source": [
        "<a href=\"https://colab.research.google.com/github/midhun-craj/ai-ml/blob/main/learning/NumPy.ipynb\" target=\"_parent\"><img src=\"https://colab.research.google.com/assets/colab-badge.svg\" alt=\"Open In Colab\"/></a>"
      ]
    },
    {
      "cell_type": "code",
      "execution_count": 1,
      "metadata": {
        "id": "19RarW4Fbt43"
      },
      "outputs": [],
      "source": [
        "import numpy as np"
      ]
    },
    {
      "cell_type": "markdown",
      "source": [
        "# The Basics"
      ],
      "metadata": {
        "id": "cQUhaCwmdFVR"
      }
    },
    {
      "cell_type": "code",
      "source": [
        "# 1D Array\n",
        "a = np.array([1, 2, 3], dtype=\"int64\") # We can specify the data type.\n",
        "print(a)"
      ],
      "metadata": {
        "colab": {
          "base_uri": "https://localhost:8080/"
        },
        "id": "mK2ZYae1dT26",
        "outputId": "e4bb0921-7bf1-4ded-a371-bada2a9e1a4a"
      },
      "execution_count": null,
      "outputs": [
        {
          "output_type": "stream",
          "name": "stdout",
          "text": [
            "[1 2 3]\n"
          ]
        }
      ]
    },
    {
      "cell_type": "code",
      "source": [
        "# 2D Array\n",
        "b = np.array([[1.0, 2.0, 3.0], [4.0, 5.0, 6.0]])\n",
        "print(b)"
      ],
      "metadata": {
        "colab": {
          "base_uri": "https://localhost:8080/"
        },
        "id": "8HEtxeEvdcms",
        "outputId": "54e7e422-4bd7-4278-aef3-ccc73d969e78"
      },
      "execution_count": null,
      "outputs": [
        {
          "output_type": "stream",
          "name": "stdout",
          "text": [
            "[[1. 2. 3.]\n",
            " [4. 5. 6.]]\n"
          ]
        }
      ]
    },
    {
      "cell_type": "code",
      "source": [
        "# Get Dimension\n",
        "print(a.ndim)\n",
        "print(b.ndim)"
      ],
      "metadata": {
        "colab": {
          "base_uri": "https://localhost:8080/"
        },
        "id": "wcelMO02d2Pp",
        "outputId": "28388e96-de24-43c9-a1b3-f0a2d03fa38e"
      },
      "execution_count": null,
      "outputs": [
        {
          "output_type": "stream",
          "name": "stdout",
          "text": [
            "1\n",
            "2\n"
          ]
        }
      ]
    },
    {
      "cell_type": "code",
      "source": [
        "# Get Shape\n",
        "print(a.shape)\n",
        "print(b.shape)"
      ],
      "metadata": {
        "colab": {
          "base_uri": "https://localhost:8080/"
        },
        "id": "5G_R3aYkeG4o",
        "outputId": "dea3ae4d-2586-4d92-dc61-b3a3cb6a5ce5"
      },
      "execution_count": null,
      "outputs": [
        {
          "output_type": "stream",
          "name": "stdout",
          "text": [
            "(3,)\n",
            "(2, 3)\n"
          ]
        }
      ]
    },
    {
      "cell_type": "code",
      "source": [
        "# Get type\n",
        "print(a.dtype)\n",
        "print(b.dtype)"
      ],
      "metadata": {
        "colab": {
          "base_uri": "https://localhost:8080/"
        },
        "id": "uKZkKC5hekgg",
        "outputId": "fac20244-f17a-49f7-846c-3d0f92f075d8"
      },
      "execution_count": null,
      "outputs": [
        {
          "output_type": "stream",
          "name": "stdout",
          "text": [
            "int64\n",
            "float64\n"
          ]
        }
      ]
    },
    {
      "cell_type": "code",
      "source": [
        "# Get itemsize\n",
        "print(a.itemsize)\n",
        "print(b.itemsize)"
      ],
      "metadata": {
        "colab": {
          "base_uri": "https://localhost:8080/"
        },
        "id": "EtF267iRfR5p",
        "outputId": "5859f4b8-ee3f-4600-9383-674918f14a21"
      },
      "execution_count": null,
      "outputs": [
        {
          "output_type": "stream",
          "name": "stdout",
          "text": [
            "8\n",
            "8\n"
          ]
        }
      ]
    },
    {
      "cell_type": "code",
      "source": [
        "# Get size (no of elements)\n",
        "print(a.size)\n",
        "print(b.size)"
      ],
      "metadata": {
        "colab": {
          "base_uri": "https://localhost:8080/"
        },
        "id": "hSbF_YCMflAE",
        "outputId": "ee240031-d3a9-4d12-e9e8-801fcac75a47"
      },
      "execution_count": null,
      "outputs": [
        {
          "output_type": "stream",
          "name": "stdout",
          "text": [
            "3\n",
            "6\n"
          ]
        }
      ]
    },
    {
      "cell_type": "code",
      "source": [
        "# Get total size\n",
        "print(a.size * a.itemsize)\n",
        "print(a.nbytes)\n",
        "print(b.nbytes)"
      ],
      "metadata": {
        "colab": {
          "base_uri": "https://localhost:8080/"
        },
        "id": "FDOTGtxhfxsF",
        "outputId": "55684122-9633-49b8-f18e-c8a6dd80f3e3"
      },
      "execution_count": null,
      "outputs": [
        {
          "output_type": "stream",
          "name": "stdout",
          "text": [
            "24\n",
            "24\n",
            "48\n"
          ]
        }
      ]
    },
    {
      "cell_type": "markdown",
      "source": [
        "# Accessing/Changing specific elements, rows, columns, etc."
      ],
      "metadata": {
        "id": "Zdom1q4BR2jb"
      }
    },
    {
      "cell_type": "code",
      "source": [
        "a = np.array([[1, 2, 3, 4, 5, 6, 7, 8], [9, 10, 11, 12, 13, 14, 15, 16]])\n",
        "print(a)"
      ],
      "metadata": {
        "id": "pB0HOUDdgJOb",
        "colab": {
          "base_uri": "https://localhost:8080/"
        },
        "outputId": "2388e47c-aff1-41e9-a1c3-f74edb37e4dd"
      },
      "execution_count": null,
      "outputs": [
        {
          "output_type": "stream",
          "name": "stdout",
          "text": [
            "[[ 1  2  3  4  5  6  7  8]\n",
            " [ 9 10 11 12 13 14 15 16]]\n"
          ]
        }
      ]
    },
    {
      "cell_type": "code",
      "source": [
        "# Get a specific element [r, c]\n",
        "print(a[0, 7])\n",
        "print(a[1, 3])"
      ],
      "metadata": {
        "id": "Ju4Rn3h1gnOj",
        "colab": {
          "base_uri": "https://localhost:8080/"
        },
        "outputId": "c3aba118-6550-4645-f593-aa8f6331a549"
      },
      "execution_count": null,
      "outputs": [
        {
          "output_type": "stream",
          "name": "stdout",
          "text": [
            "8\n",
            "12\n"
          ]
        }
      ]
    },
    {
      "cell_type": "code",
      "source": [
        "# Get a specific row\n",
        "print(a[0, :])"
      ],
      "metadata": {
        "id": "3M3DT_umgpYl",
        "colab": {
          "base_uri": "https://localhost:8080/"
        },
        "outputId": "c0126af3-7115-4b92-987b-ebb98211578b"
      },
      "execution_count": null,
      "outputs": [
        {
          "output_type": "stream",
          "name": "stdout",
          "text": [
            "[1 2 3 4 5 6 7 8]\n"
          ]
        }
      ]
    },
    {
      "cell_type": "code",
      "source": [
        "# Get a specific column\n",
        "print(a[:, 3])"
      ],
      "metadata": {
        "id": "wevsSLJfgpMh",
        "colab": {
          "base_uri": "https://localhost:8080/"
        },
        "outputId": "71204899-c284-4ef4-cf5a-a9d1c4bed3d6"
      },
      "execution_count": null,
      "outputs": [
        {
          "output_type": "stream",
          "name": "stdout",
          "text": [
            "[ 4 12]\n"
          ]
        }
      ]
    },
    {
      "cell_type": "code",
      "source": [
        "# Getting a little more fancy [startIndex:endIndex:stepSize]\n",
        "print(a[1, 0:8:2])\n",
        "print(a[0:2, 3])"
      ],
      "metadata": {
        "id": "ACsYKJUNgo_D",
        "colab": {
          "base_uri": "https://localhost:8080/"
        },
        "outputId": "3fa87b7f-eb9e-4863-c956-20e411b8e1cc"
      },
      "execution_count": null,
      "outputs": [
        {
          "output_type": "stream",
          "name": "stdout",
          "text": [
            "[ 9 11 13 15]\n",
            "[ 4 12]\n"
          ]
        }
      ]
    },
    {
      "cell_type": "code",
      "source": [
        "a[1, 0] = 20\n",
        "print(a)"
      ],
      "metadata": {
        "id": "hb9OQ1vpgozW",
        "colab": {
          "base_uri": "https://localhost:8080/"
        },
        "outputId": "15a1ff75-c2ee-4906-b6cb-04047d7c0dce"
      },
      "execution_count": null,
      "outputs": [
        {
          "output_type": "stream",
          "name": "stdout",
          "text": [
            "[[ 1  2  3  4  5  6  7  8]\n",
            " [20 10 11 12 13 14 15 16]]\n"
          ]
        }
      ]
    },
    {
      "cell_type": "code",
      "source": [
        "# a[1, :] = 24\n",
        "# print(a)\n",
        "\n",
        "a[:, 0] = 24\n",
        "print(a)"
      ],
      "metadata": {
        "id": "7vcmpillgm1j",
        "colab": {
          "base_uri": "https://localhost:8080/"
        },
        "outputId": "3a2fd5f2-eb73-458c-cfc6-fba1cab93e4a"
      },
      "execution_count": null,
      "outputs": [
        {
          "output_type": "stream",
          "name": "stdout",
          "text": [
            "[[24  2  3  4  5  6  7  8]\n",
            " [24 24 24 24 24 24 24 24]]\n"
          ]
        }
      ]
    },
    {
      "cell_type": "markdown",
      "source": [
        "## 3D - example"
      ],
      "metadata": {
        "id": "2GX75H7qVM7_"
      }
    },
    {
      "cell_type": "code",
      "source": [
        "b = np.array([[[1, 2], [3, 4]], [[5, 6], [7, 8]]])\n",
        "print(b)"
      ],
      "metadata": {
        "id": "LP9diNUJgmnu",
        "colab": {
          "base_uri": "https://localhost:8080/"
        },
        "outputId": "e0f00723-137a-4973-ff1e-ac50ea062af6"
      },
      "execution_count": null,
      "outputs": [
        {
          "output_type": "stream",
          "name": "stdout",
          "text": [
            "[[[1 2]\n",
            "  [3 4]]\n",
            "\n",
            " [[5 6]\n",
            "  [7 8]]]\n"
          ]
        }
      ]
    },
    {
      "cell_type": "code",
      "source": [
        "# Get specific element (work outside in)\n",
        "print(b[1, 0, 0])\n",
        "print(b[0, 0, 0])"
      ],
      "metadata": {
        "colab": {
          "base_uri": "https://localhost:8080/"
        },
        "id": "IL9EW1eiV4Sk",
        "outputId": "84839f71-cb2f-4716-d221-15c29412a085"
      },
      "execution_count": null,
      "outputs": [
        {
          "output_type": "stream",
          "name": "stdout",
          "text": [
            "5\n",
            "1\n"
          ]
        }
      ]
    },
    {
      "cell_type": "code",
      "source": [
        "print(b[:, 1, :])\n",
        "print(\"--------\")\n",
        "print(b[:, 0, :])"
      ],
      "metadata": {
        "colab": {
          "base_uri": "https://localhost:8080/"
        },
        "id": "uTvsMN92WNYf",
        "outputId": "399f05ef-ab90-4e74-aeca-175efd8f1d17"
      },
      "execution_count": null,
      "outputs": [
        {
          "output_type": "stream",
          "name": "stdout",
          "text": [
            "[[3 4]\n",
            " [7 8]]\n",
            "--------\n",
            "[[1 2]\n",
            " [5 6]]\n"
          ]
        }
      ]
    },
    {
      "cell_type": "code",
      "source": [
        "# Replace\n",
        "b[1, 0, 1] = 20\n",
        "print(b)"
      ],
      "metadata": {
        "colab": {
          "base_uri": "https://localhost:8080/"
        },
        "id": "v57WyOjAW0AC",
        "outputId": "5a4365e7-b8a9-4e09-b32b-0176afb74148"
      },
      "execution_count": null,
      "outputs": [
        {
          "output_type": "stream",
          "name": "stdout",
          "text": [
            "[[[20 20]\n",
            "  [ 3  4]]\n",
            "\n",
            " [[ 5 20]\n",
            "  [20  8]]]\n"
          ]
        }
      ]
    },
    {
      "cell_type": "code",
      "source": [
        "b[0, 1, :] = [22, 22]\n",
        "print(b)"
      ],
      "metadata": {
        "colab": {
          "base_uri": "https://localhost:8080/"
        },
        "id": "dtYm78gjZuHp",
        "outputId": "51b66cce-e65e-439d-f570-197bb38f182e"
      },
      "execution_count": null,
      "outputs": [
        {
          "output_type": "stream",
          "name": "stdout",
          "text": [
            "[[[20 20]\n",
            "  [22 22]]\n",
            "\n",
            " [[22 22]\n",
            "  [20  8]]]\n"
          ]
        }
      ]
    },
    {
      "cell_type": "markdown",
      "source": [
        "# Initializing different types of arrays"
      ],
      "metadata": {
        "id": "CiINSWo8aHek"
      }
    },
    {
      "cell_type": "code",
      "source": [
        "# All 0s matrix\n",
        "a = np.zeros((2, 3), dtype='int16')\n",
        "print(a)"
      ],
      "metadata": {
        "colab": {
          "base_uri": "https://localhost:8080/"
        },
        "id": "74WY4MleaLoi",
        "outputId": "5aac5d8c-2692-4481-c7bc-d8440826f8f5"
      },
      "execution_count": null,
      "outputs": [
        {
          "output_type": "stream",
          "name": "stdout",
          "text": [
            "[[0 0 0]\n",
            " [0 0 0]]\n"
          ]
        }
      ]
    },
    {
      "cell_type": "code",
      "source": [
        "# All 1s matrix\n",
        "a = np.ones((2, 3), dtype='int32')\n",
        "print(a)"
      ],
      "metadata": {
        "colab": {
          "base_uri": "https://localhost:8080/"
        },
        "id": "XqeWhAhO2sty",
        "outputId": "00247c4a-dd65-4633-93cd-edf45da3f16d"
      },
      "execution_count": null,
      "outputs": [
        {
          "output_type": "stream",
          "name": "stdout",
          "text": [
            "[[1 1 1]\n",
            " [1 1 1]]\n"
          ]
        }
      ]
    },
    {
      "cell_type": "code",
      "source": [
        "# Any other number\n",
        "a = np.full((2, 8), 24, dtype='float32')\n",
        "print(a)"
      ],
      "metadata": {
        "colab": {
          "base_uri": "https://localhost:8080/"
        },
        "id": "XGMIR13L29lJ",
        "outputId": "555693c9-4f2e-4671-ea87-c24975a4e85d"
      },
      "execution_count": null,
      "outputs": [
        {
          "output_type": "stream",
          "name": "stdout",
          "text": [
            "[[24. 24. 24. 24. 24. 24. 24. 24.]\n",
            " [24. 24. 24. 24. 24. 24. 24. 24.]]\n"
          ]
        }
      ]
    },
    {
      "cell_type": "code",
      "source": [
        "# Any other number (full_like) using existing shape\n",
        "\n",
        "# print(np.full(a.shape, 9, dtype='float32'))\n",
        "\n",
        "a = np.full_like(a, 4, dtype='int32')\n",
        "print(a)"
      ],
      "metadata": {
        "colab": {
          "base_uri": "https://localhost:8080/"
        },
        "id": "TzqTJB0P3o59",
        "outputId": "786ffc8f-98cb-4211-da94-9dc85b54e033"
      },
      "execution_count": null,
      "outputs": [
        {
          "output_type": "stream",
          "name": "stdout",
          "text": [
            "[[4 4 4 4 4 4 4 4]\n",
            " [4 4 4 4 4 4 4 4]]\n"
          ]
        }
      ]
    },
    {
      "cell_type": "code",
      "source": [
        "# Random decimal numbers\n",
        "a = np.random.rand(4, 4)\n",
        "print(a)"
      ],
      "metadata": {
        "colab": {
          "base_uri": "https://localhost:8080/"
        },
        "id": "AKHJgZjY46xN",
        "outputId": "8d878f6b-d691-4b36-bb8b-67cb0abbe9c6"
      },
      "execution_count": null,
      "outputs": [
        {
          "output_type": "stream",
          "name": "stdout",
          "text": [
            "[[0.50403085 0.79279364 0.15044094 0.79671797]\n",
            " [0.38292142 0.16883175 0.53220185 0.56486473]\n",
            " [0.38080173 0.64297718 0.46073012 0.30307505]\n",
            " [0.67007834 0.85018137 0.32924329 0.60780991]]\n"
          ]
        }
      ]
    },
    {
      "cell_type": "code",
      "source": [
        "# Random decimal numbers (random_sample) using existing shape\n",
        "a = np.random.random_sample(a.shape)\n",
        "print(a)"
      ],
      "metadata": {
        "colab": {
          "base_uri": "https://localhost:8080/"
        },
        "id": "8OML2p4M5cZP",
        "outputId": "fb9c7940-3824-4b7c-857b-464be84369c6"
      },
      "execution_count": null,
      "outputs": [
        {
          "output_type": "stream",
          "name": "stdout",
          "text": [
            "[[0.1582247  0.92677152 0.96813889 0.30303848]\n",
            " [0.97118194 0.64314859 0.81432786 0.95430525]\n",
            " [0.19855773 0.5558884  0.59426841 0.95398429]\n",
            " [0.63435853 0.39723136 0.75041432 0.78045347]]\n"
          ]
        }
      ]
    },
    {
      "cell_type": "code",
      "source": [
        "# Random integer values\n",
        "a = np.random.randint(2, 8, size=(4, 4), dtype='int64')\n",
        "print(a)"
      ],
      "metadata": {
        "colab": {
          "base_uri": "https://localhost:8080/"
        },
        "id": "T7gx7T1G51K8",
        "outputId": "4e520d51-bdcc-4cf5-b17f-19f2ab1ec6ef"
      },
      "execution_count": null,
      "outputs": [
        {
          "output_type": "stream",
          "name": "stdout",
          "text": [
            "[[2 6 5 3]\n",
            " [2 6 4 6]\n",
            " [7 4 4 7]\n",
            " [2 7 2 2]]\n"
          ]
        }
      ]
    },
    {
      "cell_type": "code",
      "source": [
        "# The identity matrix\n",
        "a = np.identity(2, dtype='bool')\n",
        "print(a)"
      ],
      "metadata": {
        "colab": {
          "base_uri": "https://localhost:8080/"
        },
        "id": "Q2mi2r4M7iBw",
        "outputId": "a1ea844e-20d0-4844-f10a-70f758cc0e0d"
      },
      "execution_count": null,
      "outputs": [
        {
          "output_type": "stream",
          "name": "stdout",
          "text": [
            "[[ True False]\n",
            " [False  True]]\n"
          ]
        }
      ]
    },
    {
      "cell_type": "code",
      "source": [
        "# Repeat an array\n",
        "arr = np.array([[1, 2, 3]])\n",
        "r1 = np.repeat(arr, 3, axis=0)\n",
        "print(r1)"
      ],
      "metadata": {
        "colab": {
          "base_uri": "https://localhost:8080/"
        },
        "id": "SSvF_QTH73Ao",
        "outputId": "14481844-27b1-4bd7-bdf9-c7ffe7d4541b"
      },
      "execution_count": null,
      "outputs": [
        {
          "output_type": "stream",
          "name": "stdout",
          "text": [
            "[[1 2 3]\n",
            " [1 2 3]\n",
            " [1 2 3]]\n"
          ]
        }
      ]
    },
    {
      "cell_type": "code",
      "source": [
        "# Task\n",
        "output = np.ones((5, 5), dtype='int32')\n",
        "print(output)\n",
        "\n",
        "print('--------------------')\n",
        "\n",
        "z = np.zeros((3, 3), dtype='int32')\n",
        "z[1, 1] = 9\n",
        "print(z)\n",
        "\n",
        "print('--------------------')\n",
        "\n",
        "output[1:-1, 1:-1] = z\n",
        "print(output)"
      ],
      "metadata": {
        "colab": {
          "base_uri": "https://localhost:8080/"
        },
        "id": "9swaci158oxt",
        "outputId": "d00171db-00e4-43fc-9060-f2db0ebae17f"
      },
      "execution_count": 85,
      "outputs": [
        {
          "output_type": "stream",
          "name": "stdout",
          "text": [
            "[[1 1 1 1 1]\n",
            " [1 1 1 1 1]\n",
            " [1 1 1 1 1]\n",
            " [1 1 1 1 1]\n",
            " [1 1 1 1 1]]\n",
            "--------------------\n",
            "[[0 0 0]\n",
            " [0 9 0]\n",
            " [0 0 0]]\n",
            "--------------------\n",
            "[[1 1 1 1 1]\n",
            " [1 0 0 0 1]\n",
            " [1 0 9 0 1]\n",
            " [1 0 0 0 1]\n",
            " [1 1 1 1 1]]\n"
          ]
        }
      ]
    },
    {
      "cell_type": "markdown",
      "source": [
        "## Be careful when copying arrays!!!"
      ],
      "metadata": {
        "id": "PjZrWxpQAbf6"
      }
    },
    {
      "cell_type": "code",
      "source": [
        "a = np.array([1, 2, 3])\n",
        "b = a.copy()\n",
        "b[0] = 100\n",
        "print(b)\n",
        "print(a)"
      ],
      "metadata": {
        "colab": {
          "base_uri": "https://localhost:8080/"
        },
        "id": "F0npo5LS-1Jo",
        "outputId": "83759a1d-7e9e-4b09-b2da-3689c34835bb"
      },
      "execution_count": 89,
      "outputs": [
        {
          "output_type": "stream",
          "name": "stdout",
          "text": [
            "[100   2   3]\n",
            "[1 2 3]\n"
          ]
        }
      ]
    },
    {
      "cell_type": "markdown",
      "source": [
        "# Mathematics"
      ],
      "metadata": {
        "id": "qe4H-HgqA7aM"
      }
    },
    {
      "cell_type": "code",
      "source": [
        "a = np.array([1, 2, 3, 4])\n",
        "print(a)"
      ],
      "metadata": {
        "colab": {
          "base_uri": "https://localhost:8080/"
        },
        "id": "izbTzmapA6PW",
        "outputId": "dc52b181-167b-4b75-b5e6-b05a4eeb5a3b"
      },
      "execution_count": 3,
      "outputs": [
        {
          "output_type": "stream",
          "name": "stdout",
          "text": [
            "[1 2 3 4]\n"
          ]
        }
      ]
    },
    {
      "cell_type": "code",
      "source": [
        "print(a + 2)"
      ],
      "metadata": {
        "colab": {
          "base_uri": "https://localhost:8080/"
        },
        "id": "iwykNWjYN_gK",
        "outputId": "2b050693-90a1-476f-ada5-47693ca78b91"
      },
      "execution_count": 102,
      "outputs": [
        {
          "output_type": "stream",
          "name": "stdout",
          "text": [
            "[3 4 5 6]\n"
          ]
        }
      ]
    },
    {
      "cell_type": "code",
      "source": [
        "print(a - 2)"
      ],
      "metadata": {
        "colab": {
          "base_uri": "https://localhost:8080/"
        },
        "id": "ELyy_FBFODBf",
        "outputId": "263af5da-b681-4ed5-9e85-fd0711511d86"
      },
      "execution_count": 103,
      "outputs": [
        {
          "output_type": "stream",
          "name": "stdout",
          "text": [
            "[-1  0  1  2]\n"
          ]
        }
      ]
    },
    {
      "cell_type": "code",
      "source": [
        "print(a / 2)"
      ],
      "metadata": {
        "colab": {
          "base_uri": "https://localhost:8080/"
        },
        "id": "a165C_r5ODUo",
        "outputId": "594d7800-695e-4b4b-dd69-07fd5ea9e058"
      },
      "execution_count": 104,
      "outputs": [
        {
          "output_type": "stream",
          "name": "stdout",
          "text": [
            "[0.5 1.  1.5 2. ]\n"
          ]
        }
      ]
    },
    {
      "cell_type": "code",
      "source": [
        "print(a * 2)"
      ],
      "metadata": {
        "colab": {
          "base_uri": "https://localhost:8080/"
        },
        "id": "gGmeyWfXODpL",
        "outputId": "d9e1d066-513e-467e-97b6-b9beb0bb1b8c"
      },
      "execution_count": 105,
      "outputs": [
        {
          "output_type": "stream",
          "name": "stdout",
          "text": [
            "[2 4 6 8]\n"
          ]
        }
      ]
    },
    {
      "cell_type": "code",
      "source": [
        "b = np.array([1, 0, 1, 0])\n",
        "print(a + b)\n",
        "print(a * b)"
      ],
      "metadata": {
        "colab": {
          "base_uri": "https://localhost:8080/"
        },
        "id": "VBQOK9uozs6J",
        "outputId": "8949cac5-c750-435a-e092-5318391b0012"
      },
      "execution_count": 11,
      "outputs": [
        {
          "output_type": "stream",
          "name": "stdout",
          "text": [
            "[2 2 4 4]\n",
            "[1 0 3 0]\n"
          ]
        }
      ]
    },
    {
      "cell_type": "code",
      "source": [
        "print(a ** 2)"
      ],
      "metadata": {
        "colab": {
          "base_uri": "https://localhost:8080/"
        },
        "id": "PpsZHsfX0Bdd",
        "outputId": "3492977c-8a94-4b6c-ed5e-6809f516421b"
      },
      "execution_count": 5,
      "outputs": [
        {
          "output_type": "stream",
          "name": "stdout",
          "text": [
            "[ 1  4  9 16]\n"
          ]
        }
      ]
    },
    {
      "cell_type": "code",
      "source": [
        "print(np.sin(a)) # Take the sin\n",
        "print(np.cos(a)) # Take the cos\n",
        "print(np.tan(a)) # Take the tan"
      ],
      "metadata": {
        "colab": {
          "base_uri": "https://localhost:8080/"
        },
        "id": "SRG-PzAb0T4v",
        "outputId": "c5a266ee-d570-4681-b93b-13c8741e7456"
      },
      "execution_count": 10,
      "outputs": [
        {
          "output_type": "stream",
          "name": "stdout",
          "text": [
            "[ 0.84147098  0.90929743  0.14112001 -0.7568025 ]\n",
            "[ 0.54030231 -0.41614684 -0.9899925  -0.65364362]\n",
            "[ 1.55740772 -2.18503986 -0.14254654  1.15782128]\n"
          ]
        }
      ]
    },
    {
      "cell_type": "markdown",
      "source": [
        "# Linear Algebra"
      ],
      "metadata": {
        "id": "FFP_x1hK0v_M"
      }
    },
    {
      "cell_type": "code",
      "source": [
        "# Matrix Multiplication\n",
        "a = np.ones((2, 3))\n",
        "print(a)\n",
        "\n",
        "print('----------')\n",
        "\n",
        "b = np.full((3, 2), 2)\n",
        "print(b)\n",
        "\n",
        "print('----------')\n",
        "\n",
        "print(np.matmul(a, b))\n",
        "print(np.matmul(b, a))"
      ],
      "metadata": {
        "colab": {
          "base_uri": "https://localhost:8080/"
        },
        "id": "0GUP2hsc0zlX",
        "outputId": "db1d2f9a-479f-4394-8b11-d730a38b85e6"
      },
      "execution_count": 16,
      "outputs": [
        {
          "output_type": "stream",
          "name": "stdout",
          "text": [
            "[[1. 1. 1.]\n",
            " [1. 1. 1.]]\n",
            "----------\n",
            "[[2 2]\n",
            " [2 2]\n",
            " [2 2]]\n",
            "----------\n",
            "[[6. 6.]\n",
            " [6. 6.]]\n",
            "[[4. 4. 4.]\n",
            " [4. 4. 4.]\n",
            " [4. 4. 4.]]\n"
          ]
        }
      ]
    },
    {
      "cell_type": "code",
      "source": [
        "# Find the determinant\n",
        "a = np.identity(3)\n",
        "print(a)\n",
        "print('----------')\n",
        "print(np.linalg.det(a))"
      ],
      "metadata": {
        "colab": {
          "base_uri": "https://localhost:8080/"
        },
        "id": "rzEcvN-75KyO",
        "outputId": "8b2e3494-831a-4601-9ea1-da828cf165b7"
      },
      "execution_count": 19,
      "outputs": [
        {
          "output_type": "stream",
          "name": "stdout",
          "text": [
            "[[1. 0. 0.]\n",
            " [0. 1. 0.]\n",
            " [0. 0. 1.]]\n",
            "----------\n",
            "1.0\n"
          ]
        }
      ]
    },
    {
      "cell_type": "markdown",
      "source": [
        "# Statistics"
      ],
      "metadata": {
        "id": "CYl8XnXKgubc"
      }
    },
    {
      "cell_type": "code",
      "source": [
        "stats = np.array([[1, 2, 3], [4, 5, 6]])\n",
        "print(stats)"
      ],
      "metadata": {
        "colab": {
          "base_uri": "https://localhost:8080/"
        },
        "id": "Enl6oNst5zIJ",
        "outputId": "b004699d-3934-4768-a66d-967a9a2f2a4c"
      },
      "execution_count": 2,
      "outputs": [
        {
          "output_type": "stream",
          "name": "stdout",
          "text": [
            "[[1 2 3]\n",
            " [4 5 6]]\n"
          ]
        }
      ]
    },
    {
      "cell_type": "code",
      "source": [
        "# Min\n",
        "print(np.min(stats))\n",
        "print(np.min(stats, axis=1))\n",
        "print(np.min(stats, axis=0))"
      ],
      "metadata": {
        "colab": {
          "base_uri": "https://localhost:8080/"
        },
        "id": "ZYT4IoBahSJp",
        "outputId": "766bc961-65f5-41c5-9184-fc28a45c50ca"
      },
      "execution_count": 7,
      "outputs": [
        {
          "output_type": "stream",
          "name": "stdout",
          "text": [
            "1\n",
            "[1 4]\n",
            "[1 2 3]\n"
          ]
        }
      ]
    },
    {
      "cell_type": "code",
      "source": [
        "# Max\n",
        "print(np.max(stats))\n",
        "print(np.max(stats, axis=1))\n",
        "print(np.max(stats, axis=0))"
      ],
      "metadata": {
        "colab": {
          "base_uri": "https://localhost:8080/"
        },
        "id": "hLr1wVlJhW-5",
        "outputId": "a15cecd9-50ef-4fda-d6bf-014c80ee178d"
      },
      "execution_count": 9,
      "outputs": [
        {
          "output_type": "stream",
          "name": "stdout",
          "text": [
            "6\n",
            "[3 6]\n",
            "[4 5 6]\n"
          ]
        }
      ]
    },
    {
      "cell_type": "code",
      "source": [
        "# Sum\n",
        "print(np.sum(stats))\n",
        "print(np.sum(stats, axis=1))\n",
        "print(np.sum(stats, axis=0))"
      ],
      "metadata": {
        "colab": {
          "base_uri": "https://localhost:8080/"
        },
        "id": "jqJK80-shrZa",
        "outputId": "d3258755-a301-4490-ad89-7427726960a6"
      },
      "execution_count": 13,
      "outputs": [
        {
          "output_type": "stream",
          "name": "stdout",
          "text": [
            "21\n",
            "[ 6 15]\n",
            "[5 7 9]\n"
          ]
        }
      ]
    },
    {
      "cell_type": "markdown",
      "source": [
        "# Reorganizing Arrays"
      ],
      "metadata": {
        "id": "N20rqF_biEQF"
      }
    },
    {
      "cell_type": "code",
      "source": [
        "# Reshape\n",
        "before = np.array([[1, 2, 3, 4], [5, 6, 7, 8]])\n",
        "print(before.shape)\n",
        "print(before)\n",
        "\n",
        "print('----------')\n",
        "\n",
        "after = before.reshape((2, 2, 2))\n",
        "print(after.shape)\n",
        "print(after)"
      ],
      "metadata": {
        "colab": {
          "base_uri": "https://localhost:8080/"
        },
        "id": "0vHKlNzEiJ2E",
        "outputId": "55e56569-a301-4e89-e512-27640a5f27ac"
      },
      "execution_count": 21,
      "outputs": [
        {
          "output_type": "stream",
          "name": "stdout",
          "text": [
            "(2, 4)\n",
            "[[1 2 3 4]\n",
            " [5 6 7 8]]\n",
            "----------\n",
            "(2, 2, 2)\n",
            "[[[1 2]\n",
            "  [3 4]]\n",
            "\n",
            " [[5 6]\n",
            "  [7 8]]]\n"
          ]
        }
      ]
    },
    {
      "cell_type": "code",
      "source": [
        "# Vertically stacking vectors\n",
        "v1 = np.array([1, 2, 3, 4])\n",
        "v2 = np.array([5, 6, 7, 8])\n",
        "\n",
        "print(np.vstack((v1, v2, v1, v2)))"
      ],
      "metadata": {
        "colab": {
          "base_uri": "https://localhost:8080/"
        },
        "id": "gVIabECik7Aa",
        "outputId": "c0cbd744-e452-4382-cd0d-7c2ee3704e9f"
      },
      "execution_count": 24,
      "outputs": [
        {
          "output_type": "stream",
          "name": "stdout",
          "text": [
            "[[1 2 3 4]\n",
            " [5 6 7 8]\n",
            " [1 2 3 4]\n",
            " [5 6 7 8]]\n"
          ]
        }
      ]
    },
    {
      "cell_type": "code",
      "source": [
        "# Horizontally stacking vectors\n",
        "h1 = np.ones((2, 3))\n",
        "h2 = np.zeros((2, 2))\n",
        "\n",
        "print(np.hstack((h1, h2, h1)))"
      ],
      "metadata": {
        "colab": {
          "base_uri": "https://localhost:8080/"
        },
        "id": "ul4Mvplml0Co",
        "outputId": "0a756c71-45fa-42e0-c5d7-48d8be9772c5"
      },
      "execution_count": 31,
      "outputs": [
        {
          "output_type": "stream",
          "name": "stdout",
          "text": [
            "[[1. 1. 1. 0. 0. 1. 1. 1.]\n",
            " [1. 1. 1. 0. 0. 1. 1. 1.]]\n"
          ]
        }
      ]
    },
    {
      "cell_type": "markdown",
      "source": [
        "# Miscellaneous"
      ],
      "metadata": {
        "id": "mTRt8FiZmQr6"
      }
    },
    {
      "cell_type": "markdown",
      "source": [
        "## Load data from file"
      ],
      "metadata": {
        "id": "rEXyg-1hm83X"
      }
    },
    {
      "cell_type": "code",
      "source": [
        "data = np.genfromtxt('data.txt', delimiter=',')\n",
        "# print(data)\n",
        "\n",
        "# print()\n",
        "# print()\n",
        "\n",
        "# print(data.astype('int32')) # astype only copies the data\n",
        "\n",
        "data = data.astype('int32')\n",
        "\n",
        "print(data)"
      ],
      "metadata": {
        "colab": {
          "base_uri": "https://localhost:8080/"
        },
        "id": "RnA9smWdmYme",
        "outputId": "338d371b-8399-437a-dd81-dfcc9997e9a9"
      },
      "execution_count": 57,
      "outputs": [
        {
          "output_type": "stream",
          "name": "stdout",
          "text": [
            "[[  1  13  21  11 196  75   4   3  34   6   7   8   0   1   2   3   4   5]\n",
            " [  3  42  12  33 766  75   4  55   6   4   3   4   5   6   7   0  11  12]\n",
            " [  1  22  33  11 999  11   2   1  78   0   1   2   9   8   7   1  76  88]]\n"
          ]
        }
      ]
    },
    {
      "cell_type": "markdown",
      "source": [
        "## Boolean Masking and Advanced Indexing"
      ],
      "metadata": {
        "id": "LbZeEIPDrs9i"
      }
    },
    {
      "cell_type": "code",
      "source": [
        "data > 50\n",
        "print()\n",
        "data[data > 50]"
      ],
      "metadata": {
        "colab": {
          "base_uri": "https://localhost:8080/"
        },
        "id": "HY22AIa5rwe6",
        "outputId": "a3301918-554a-4f01-9b0c-b07e38f8a0ab"
      },
      "execution_count": 62,
      "outputs": [
        {
          "output_type": "stream",
          "name": "stdout",
          "text": [
            "\n"
          ]
        },
        {
          "output_type": "execute_result",
          "data": {
            "text/plain": [
              "array([196,  75, 766,  75,  55, 999,  78,  76,  88], dtype=int32)"
            ]
          },
          "metadata": {},
          "execution_count": 62
        }
      ]
    },
    {
      "cell_type": "code",
      "source": [
        "# You can index with a list in NumPy\n",
        "a = np.array([1, 2, 3, 4, 5, 6, 7, 8, 9])\n",
        "print(a[[1, 2, 8]])"
      ],
      "metadata": {
        "colab": {
          "base_uri": "https://localhost:8080/"
        },
        "id": "t4igR68Z9c7F",
        "outputId": "171ce3ba-0443-4457-c640-cc75988094ae"
      },
      "execution_count": 63,
      "outputs": [
        {
          "output_type": "stream",
          "name": "stdout",
          "text": [
            "[2 3 9]\n"
          ]
        }
      ]
    },
    {
      "cell_type": "code",
      "source": [
        "print(np.any(data > 50, axis=0))\n",
        "print()\n",
        "print(np.all(data > 50, axis=0))\n",
        "print()\n",
        "print(np.any(data > 50, axis=1))\n",
        "print()\n",
        "print(np.all(data > 50, axis=1))"
      ],
      "metadata": {
        "colab": {
          "base_uri": "https://localhost:8080/"
        },
        "id": "4YRSqCL799dB",
        "outputId": "0d758c8a-8c40-4656-aab1-70b64f044b22"
      },
      "execution_count": 71,
      "outputs": [
        {
          "output_type": "stream",
          "name": "stdout",
          "text": [
            "[False False False False  True  True False  True  True False False False\n",
            " False False False False  True  True]\n",
            "\n",
            "[False False False False  True False False False False False False False\n",
            " False False False False False False]\n",
            "\n",
            "[ True  True  True]\n",
            "\n",
            "[False False False]\n"
          ]
        }
      ]
    },
    {
      "cell_type": "code",
      "source": [
        "print(((data > 50) & (data < 100)))\n",
        "print()\n",
        "print((~((data > 50) & (data < 100))))"
      ],
      "metadata": {
        "colab": {
          "base_uri": "https://localhost:8080/"
        },
        "id": "kkd-KQfo-s0M",
        "outputId": "dc30424b-3779-43b2-b6de-6d66879b4f8c"
      },
      "execution_count": 77,
      "outputs": [
        {
          "output_type": "stream",
          "name": "stdout",
          "text": [
            "[[False False False False False  True False False False False False False\n",
            "  False False False False False False]\n",
            " [False False False False False  True False  True False False False False\n",
            "  False False False False False False]\n",
            " [False False False False False False False False  True False False False\n",
            "  False False False False  True  True]]\n",
            "\n",
            "[[ True  True  True  True  True False  True  True  True  True  True  True\n",
            "   True  True  True  True  True  True]\n",
            " [ True  True  True  True  True False  True False  True  True  True  True\n",
            "   True  True  True  True  True  True]\n",
            " [ True  True  True  True  True  True  True  True False  True  True  True\n",
            "   True  True  True  True False False]]\n"
          ]
        }
      ]
    }
  ]
}